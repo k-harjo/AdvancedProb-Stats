{
 "cells": [
  {
   "cell_type": "markdown",
   "metadata": {},
   "source": [
    "# Topic 2 DQ 2\n",
    "\n",
    "\"Describe a scenario where the mean and median values of a dataset may differ significantly. What insights can be gained by examining this difference? Can you propose any solutions to handle this discrepancy? Additionally, how can Python be used to implement these solutions and what are some real-world examples of this phenomenon?\"\n",
    "\n",
    "\n",
    "### Real-World Examples\n",
    "Economic Studies: Researchers analyze income or wealth distribution within countries to study economic inequality.\n",
    "\n",
    "Real Estate: In housing markets, the sale prices of homes may be skewed by a few high-value transactions, affecting the average price more than the median price.\n",
    "\n",
    "Internet Traffic: Websites or online services may have a skewed distribution of daily visitors, with a few days attracting significantly higher traffic due to special events or promotions.\n",
    "\n",
    "\n",
    "### Skewness of the Distribution\n",
    "\n",
    "A significant difference between the mean and median indicates a skewed distribution. If the mean is higher than the median, the distribution is right-skewed, suggesting that high-income individuals pull the average up.\n",
    "\n",
    "\n",
    "### Solutions to Handle the Discrepancy\n",
    "\n",
    "Use of Median for Central Tendency: In cases of skewed data, the median provides a better measure of central tendency than the mean, as it is less affected by extreme values.\n",
    "\n",
    "Log Transformation: Applying a log transformation to the data can help reduce skewness, making the distribution more symmetric and bringing the mean and median closer together.\n",
    "\n",
    "Trimmed Mean: Calculating a trimmed mean, where a certain percentage of the extreme values from both ends of the distribution are removed before calculating the mean, can also mitigate the impact of outliers."
   ]
  },
  {
   "cell_type": "code",
   "execution_count": 62,
   "metadata": {},
   "outputs": [
    {
     "name": "stdout",
     "output_type": "stream",
     "text": [
      "No payload (excl. Dragon Mass) is not a number.\n",
      "Classified (excl. Dragon Mass) is not a number.\n",
      "Classified is not a number.\n",
      "Classified is not a number.\n",
      "5,000–6,000  is not a number.\n",
      "Classified is not a number.\n",
      "Unknown[d] is not a number.\n",
      "Unknown is not a number.\n",
      "Classified is not a number.\n",
      "Unknown is not a number.\n",
      "Classified is not a number.\n",
      "Unknown is not a number.\n",
      "[None, None, 525.0, 4700.0, 172.0, 4877.0, 500.0, 3170.0, 3325.0, 2296.0, 1316.0, 4535.0, 4428.0, 2216.0, 2395.0, 570.0, 4159.0, 1898.0, 4707.0, 1952.0, 2034.0, 553.0, 5271.0, 3136.0, 4696.0, 3100.0, 3600.0, 2257.0, 4600.0, 9600.0, 2490.0, 5600.0, 5300.0, None, 6070.0, 2708.0, 3669.0, 9600.0, 6761.0, 3310.0, 475.0, 4990.0, 9600.0, 5400.0, 3500.0, 2205.0, 9600.0, None, 4230.0, 2150.0, 6092.0, 9600.0, 2647.0, 362.0, 3600.0, 6460.0, 5384.0, 2697.0, 7075.0, 9600.0, 5800.0, 7060.0, 3000.0, 5300.0, 4000.0, 2500.0, 4400.0, 9600.0, 4850.0, 12055.0, 2495.0, 13620.0, 4200.0, 2268.0, 6500.0, 15600.0, 2617.0, 6956.0, 15600.0, 12050.0, 15600.0, 15600.0, 1977.0, 15600.0, 15600.0, 12530.0, 15600.0, 15410.0, 4311.0, None, 14932.0, 15440.0, 3130.0, 15600.0, 15600.0, 15600.0, 15600.0, 4311.0, 12500.0, 1192.0, 15600.0, 2972.0, 7000.0, None, 3500.0, 15600.0, 5000.0, 15600.0, 15600.0, 15600.0, 15600.0, 15600.0, 15600.0, 15600.0, 13000.0, 15600.0, 15600.0, 15600.0, 14000.0, 15600.0, 3328.0, 7000.0, 4331.0, None, 2200.0, 13260.0, 12519.0, 13000.0, 15635.0, 624.0, 14500.0, 325.0, 15600.0, 4500.0, 2989.0, 14500.0, None, 14500.0, 2205.0, None, 14500.0, 13600.0, 14750.0, 13900.0, 14160.0, 16250.0, None, 13000.0, None, 16250.0, 13000.0, 16250.0, 16250.0, 16250.0, 16250.0, 16250.0, None, 4100.0, 16250.0, 4000.0, 700.0, 3500.0, 16250.0, 13570.0, 2630.0]\n"
     ]
    }
   ],
   "source": [
    "import pandas as pd\n",
    "\n",
    "data = pd.read_csv('Falcon 9 and Falcon Heavy launches .csv')\n",
    "\n",
    "cleaned_mass = []\n",
    "\n",
    "for mass in data['Payload_Mass']:\n",
    "    try:\n",
    "        # Attempt to remove commas and convert to float\n",
    "        numeric_mass = float(mass.replace(\",\", \"\"))\n",
    "        cleaned_mass.append(numeric_mass)\n",
    "    except ValueError:\n",
    "        # Handle the case where conversion fails\n",
    "        print(f\"{mass} is not a number.\")\n",
    "        cleaned_mass.append(None)\n",
    "\n",
    "print(cleaned_mass)"
   ]
  },
  {
   "cell_type": "code",
   "execution_count": 63,
   "metadata": {},
   "outputs": [
    {
     "name": "stdout",
     "output_type": "stream",
     "text": [
      "No payload (excl. Dragon Mass) is not a number.\n",
      "Classified (excl. Dragon Mass) is not a number.\n",
      "Classified is not a number.\n",
      "Classified is not a number.\n",
      "Classified is not a number.\n",
      "Unknown[d] is not a number.\n",
      "Unknown is not a number.\n",
      "Classified is not a number.\n",
      "Unknown is not a number.\n",
      "Classified is not a number.\n",
      "Unknown is not a number.\n"
     ]
    }
   ],
   "source": [
    "cleaned_mass = []\n",
    "\n",
    "for mass in data['Payload_Mass']:\n",
    "    try:\n",
    "        if \"–\" in mass:\n",
    "            # Handle range values by calculating the average\n",
    "            low, high = mass.replace(\",\", \"\").split(\"–\")\n",
    "            numeric_mass = (float(low) + float(high)) / 2\n",
    "        else:\n",
    "            numeric_mass = float(mass.replace(\",\", \"\"))\n",
    "        cleaned_mass.append(numeric_mass)\n",
    "    except ValueError:\n",
    "        print(f\"{mass} is not a number.\")\n",
    "        cleaned_mass.append(None) \n",
    "\n",
    "data['Payload_Mass'] = cleaned_mass"
   ]
  },
  {
   "cell_type": "code",
   "execution_count": 64,
   "metadata": {},
   "outputs": [
    {
     "name": "stdout",
     "output_type": "stream",
     "text": [
      "0          NaN\n",
      "1          NaN\n",
      "2        525.0\n",
      "3       4700.0\n",
      "4        172.0\n",
      "        ...   \n",
      "160      700.0\n",
      "161     3500.0\n",
      "162    16250.0\n",
      "163    13570.0\n",
      "164     2630.0\n",
      "Name: Payload_Mass, Length: 165, dtype: float64\n",
      "165\n"
     ]
    }
   ],
   "source": [
    "# Check the number of missing values\n",
    "print(data['Payload_Mass'])\n",
    "print(len(data['Payload_Mass']))"
   ]
  },
  {
   "cell_type": "code",
   "execution_count": 65,
   "metadata": {},
   "outputs": [],
   "source": [
    "\n",
    "# Convert to a numpy array for easier statistical calculations\n",
    "import numpy as np\n",
    "\n",
    "# Remove None values\n",
    "cleaned_mass_no_nan = [mass for mass in data['Payload_Mass'] if mass is not None]\n",
    "\n",
    "# Remove NaN values\n",
    "cleaned_mass_array = np.array(cleaned_mass_no_nan)\n",
    "cleaned_mass_no_nan = cleaned_mass_array[~np.isnan(cleaned_mass_array)]\n"
   ]
  },
  {
   "cell_type": "code",
   "execution_count": 66,
   "metadata": {},
   "outputs": [
    {
     "name": "stdout",
     "output_type": "stream",
     "text": [
      "Series([], dtype: float64)\n"
     ]
    }
   ],
   "source": [
    "# Use the Interquartile Range (IQR) to identify outliers. \n",
    "#You can remove outliers or adjust them using transformations, we didn't need to. \n",
    "\n",
    "# Convert cleaned_mass_no_nan back to a pandas Series bc it's easier to calculate the IQR with pandas\n",
    "cleaned_mass_series = pd.Series(cleaned_mass_no_nan)\n",
    "\n",
    "# Calculate IQR on the cleaned series\n",
    "Q1 = cleaned_mass_series.quantile(0.25)\n",
    "Q3 = cleaned_mass_series.quantile(0.75)\n",
    "IQR = Q3 - Q1\n",
    "\n",
    "# Identify outliers\n",
    "outliers = cleaned_mass_series[(cleaned_mass_series < (Q1 - 1.5 * IQR)) | (cleaned_mass_series > (Q3 + 1.5 * IQR))]\n",
    "\n",
    "print(outliers)"
   ]
  },
  {
   "cell_type": "code",
   "execution_count": 67,
   "metadata": {},
   "outputs": [
    {
     "name": "stdout",
     "output_type": "stream",
     "text": [
      "Series([], dtype: float64)\n"
     ]
    }
   ],
   "source": [
    "# Identify outliers using Z-score\n",
    "# We can use numpy to standardize the data and scipy to calculate the Z-scores.\n",
    "\n",
    "import scipy.stats as stats\n",
    "\n",
    "z_scores = np.abs(stats.zscore(cleaned_mass_series))\n",
    "outliers_z = cleaned_mass_series[z_scores > 3]\n",
    "\n",
    "print(outliers_z)"
   ]
  },
  {
   "cell_type": "code",
   "execution_count": 68,
   "metadata": {},
   "outputs": [
    {
     "data": {
      "text/plain": [
       "<Axes: >"
      ]
     },
     "execution_count": 68,
     "metadata": {},
     "output_type": "execute_result"
    },
    {
     "data": {
      "image/png": "[encoded data removed]",
      "text/plain": [
       "<Figure size 640x480 with 1 Axes>"
      ]
     },
     "metadata": {},
     "output_type": "display_data"
    }
   ],
   "source": [
    "#Use seaborn for visual representation.\n",
    "import seaborn as sns\n",
    "\n",
    "sns.boxplot(x=cleaned_mass_series)"
   ]
  },
  {
   "cell_type": "code",
   "execution_count": 69,
   "metadata": {},
   "outputs": [
    {
     "name": "stdout",
     "output_type": "stream",
     "text": [
      "Mean: 8187.11038961039\n",
      "Median: 5700.0\n",
      "Standard Deviation: 5686.167062578399\n"
     ]
    }
   ],
   "source": [
    "# Compute measures of central tendency and variability on the cleaned dataset.\n",
    "\n",
    "mean_val = cleaned_mass_series.mean()\n",
    "median_val = cleaned_mass_series.median()\n",
    "std_dev = cleaned_mass_series.std()\n",
    "print(\"Mean: \" + str(mean_val))\n",
    "print(\"Median: \" + str(median_val))\n",
    "print(\"Standard Deviation: \" + str(std_dev))"
   ]
  },
  {
   "cell_type": "markdown",
   "metadata": {},
   "source": [
    "## Insights from Mean and Median Discrepancy\n",
    "\n",
    "A significant difference between the mean and median in a dataset can occur in many real-world situations, especially in distributions that are skewed. For instance, if we consider the weights associated with SpaceX launches, where most launches might have a similar weight, but a few launches are exceptionally heavy or light due to additional requirements, this could result in a skewed distribution.\n",
    "\n",
    "The discrepancy between mean and median values highlights the presence of outliers or a skewed distribution. By examining this difference, we can infer the skewness of the data. Right-Skewed (Positive Skewness) happens when the mean is greater than the median. Left-Skewed (Negative Skewness) happens when the mean is less than the median."
   ]
  },
  {
   "cell_type": "code",
   "execution_count": 70,
   "metadata": {},
   "outputs": [
    {
     "data": {
      "image/png": "[encoded data removed]",
      "text/plain": [
       "<Figure size 640x480 with 1 Axes>"
      ]
     },
     "metadata": {},
     "output_type": "display_data"
    }
   ],
   "source": [
    "# Density Plot in matyplotlib\n",
    "import matplotlib.pyplot as plt\n",
    "\n",
    "cleaned_mass_series.plot(kind='density', title='Payload Mass')\n",
    "plt.xlabel('Payload Mass (kg)')\n",
    "plt.show()"
   ]
  },
  {
   "cell_type": "markdown",
   "metadata": {},
   "source": [
    " The density plot reveals two peaks, suggesting there might be two different groups or types of payloads within the dataset. The first peak is around 5,000 kg, and the second, larger peak is around 15,000 kg. The distribution is not symmetrical and indicates that the payload masses are not evenly distributed. The presence of two peaks could imply that there are two common payload mass configurations used in the launches, possibly relating to different mission types or payload capacities."
   ]
  },
  {
   "cell_type": "markdown",
   "metadata": {},
   "source": [
    "## Solutions to Handle Discrepancy\n",
    "Use Median: For skewed data, the median can provide a better sense of the \"central\" value because it is less affected by outliers or extreme values than the mean. \n",
    "\n",
    "Data Transformation: Applying transformations to normalize the data. (Examples below!)\n",
    "\n",
    "Robust Statistical Methods (like MAD) Use statistical techniques that are less sensitive to outliers. "
   ]
  },
  {
   "cell_type": "code",
   "execution_count": 71,
   "metadata": {},
   "outputs": [],
   "source": [
    "#For data transformation, you can apply a log transformation to normalize skewed data.\n",
    "\n",
    "cleaned_mass_series_log = np.log(cleaned_mass_series + 1)  # Adding 1 to avoid log(0) :) "
   ]
  },
  {
   "cell_type": "code",
   "execution_count": 72,
   "metadata": {},
   "outputs": [
    {
     "data": {
      "image/png": "[encoded data removed]",
      "text/plain": [
       "<Figure size 1000x500 with 2 Axes>"
      ]
     },
     "metadata": {},
     "output_type": "display_data"
    }
   ],
   "source": [
    "# Plotting the original and log-transformed data\n",
    "plt.figure(figsize=(10, 5))\n",
    "\n",
    "plt.subplot(1, 2, 1)\n",
    "plt.hist(cleaned_mass_series, bins=5)\n",
    "plt.title('Original Payload Mass')\n",
    "\n",
    "plt.subplot(1, 2, 2)\n",
    "plt.hist(cleaned_mass_series_log, bins=5)\n",
    "plt.title('Log-transformed Payload Mass')\n",
    "\n",
    "plt.tight_layout()\n",
    "plt.show()"
   ]
  },
  {
   "cell_type": "markdown",
   "metadata": {},
   "source": [
    "Applying transformations like log transformation (replaces each variable in a dataset with its natural logarithm) helps normalize skewed data, making it more symmetrical. This can improve the performance of statistical analyses and machine learning models that assume data is normally distributed. Normalization can also stabilize variance, making patterns more apparent and results more reliable.\n",
    "\n",
    "\n",
    "The two histograms compare the distribution of payload masses before and after a log transformation. The original data shows a right-skewed distribution with a concentration of values on the lower end, suggesting a few very high values (outliers). The log-transformed data shows a more symmetrical distribution, indicating that the log transformation has normalized the data, reducing the skewness and the impact of high-value outliers. This transformation makes the data more suitable for analyses that assume normality."
   ]
  },
  {
   "cell_type": "code",
   "execution_count": 73,
   "metadata": {},
   "outputs": [
    {
     "name": "stdout",
     "output_type": "stream",
     "text": [
      "Median Absolute Deviation: 3900.0\n"
     ]
    }
   ],
   "source": [
    "#For robust statistical methods, the median absolute deviation (MAD) is less sensitive to outliers than standard deviation:\n",
    "\n",
    "MAD = np.median(np.abs(cleaned_mass_series - median_val))\n",
    "print(\"Median Absolute Deviation: \" + str(MAD))"
   ]
  },
  {
   "cell_type": "markdown",
   "metadata": {},
   "source": [
    "The Median Absolute Deviation (MAD) is a robust statistic used to estimate variability within a dataset, particularly its dispersion or spread. Unlike the standard deviation, which can be heavily influenced by outliers or extreme values in the data, MAD is less sensitive to such anomalies. This characteristic makes MAD especially useful in situations where the data may not follow a normal distribution."
   ]
  },
  {
   "cell_type": "markdown",
   "metadata": {},
   "source": [
    "### Sources \n",
    "\n",
    "Coleman, S. (n.d.). SpaceX Launch Data. Kaggle. Retrieved Feb 2024, from https://www.kaggle.com/datasets/scoleman/spacex-launch-data?rvi=1\n",
    "\n",
    "Kaur, J. (2019). Detecting outliers: Use absolute deviation around the median but do not use standard deviation around the mean. Journal of Emerging Technologies and Innovative Research (JETIR), 6(3). Retrieved from www.jetir.org (ISSN-2349-5162)\n",
    "\n",
    "Rogel-Salazar, J. (2023). Definitely Maybe: Probability and Distributions. In Statistics and data visualisation with Python (1st ed.). CRC Press.\n",
    "\n",
    "Zequera RAG, Rassolkin A, Vaimann T, Kallaste A. Clustering and Outlier Analysis for Key Performance Indicators in Battery Energy Storage Systems applications. 2023 IEEE 17th International Conference on Compatibility, Power Electronics and Power Engineering (CPE-POWERENG), Compatibility, Power Electronics and Power Engineering (CPE-POWERENG), 2023 IEEE 17th International Conference on. June 2023:1-6. doi:10.1109/CPE-POWERENG58103.2023.10227417\n",
    "\n",
    "This Jupiter notebook was created with the help of shcolarly articles given by ChatGPT4. (2024)"
   ]
  }
 ],
 "metadata": {
  "kernelspec": {
   "display_name": "Python 3",
   "language": "python",
   "name": "python3"
  },
  "language_info": {
   "codemirror_mode": {
    "name": "ipython",
    "version": 3
   },
   "file_extension": ".py",
   "mimetype": "text/x-python",
   "name": "python",
   "nbconvert_exporter": "python",
   "pygments_lexer": "ipython3",
   "version": "3.11.5"
  }
 },
 "nbformat": 4,
 "nbformat_minor": 2
}

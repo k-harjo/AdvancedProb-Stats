{
 "cells": [
  {
   "cell_type": "markdown",
   "metadata": {},
   "source": [
    "### Topic 2 DQ 1\n",
    "\n",
    "\"Many real-world datasets exhibit outliers or extreme values. Discuss the potential impact of outliers on measures of central tendency and variability, and propose at least two methods for identifying and handling outliers in data analysis. How can Python be used to implement these methods? Provide examples from real-world datasets to illustrate your points.\"\n",
    "\n",
    "\n",
    "## Impact of Outliers on Statistical Measures\n",
    "\n",
    "Outliers or *extreme* values in datasets can significantly impact statistical analyses, particularly measures of central tendency (our best friends--mean, median, mode) and variability (range, variance, standard deviation). Understanding and managing outliers is crucial for accurate data analysis.\n",
    "\n",
    "Mean: Outliers can skew the mean, making it not representative of the data.\n",
    "Median: Less affected by outliers, making it a more robust measure of central tendency in skewed distributions.\n",
    "Mode: Unaffected by outliers, as it simply represents the most frequent value.\n",
    "Variance and Standard Deviation: Sensitive to outliers, as they square the differences from the mean, exaggerating the impact of extreme values."
   ]
  },
  {
   "cell_type": "code",
   "execution_count": 8,
   "metadata": {},
   "outputs": [
    {
     "name": "stdout",
     "output_type": "stream",
     "text": [
      "0     149.500\n",
      "1      52.500\n",
      "2      18.750\n",
      "3      52.125\n",
      "4      69.000\n",
      "       ...   \n",
      "93     41.250\n",
      "94     47.250\n",
      "95     24.000\n",
      "96     16.500\n",
      "97     26.250\n",
      "Name: avg_breed_height, Length: 98, dtype: float64\n"
     ]
    }
   ],
   "source": [
    "#Use pandas to load your dataset from a CSV file.\n",
    "\n",
    "import pandas as pd\n",
    "\n",
    "data = pd.read_csv('dog_breeds.csv')\n",
    "data['avg_height_male'] = data['min_height_male'] + data['max_height_male'] / 2\n",
    "data['avg_height_female'] = data['min_height_female'] + data['max_height_female'] / 2\n",
    "data['avg_breed_height'] = data['avg_height_male'] + data['avg_height_female'] / 2\n",
    "\n",
    "print(data['avg_breed_height'])"
   ]
  },
  {
   "cell_type": "markdown",
   "metadata": {},
   "source": [
    "### Interquartile Range (IQR) Method\n",
    "The IQR is the difference between the 75th and 25th percentiles. Observations that fall below Q1 - 1.5xIQR or above Q3 + 1.5xIQR are considered outliers."
   ]
  },
  {
   "cell_type": "code",
   "execution_count": 9,
   "metadata": {},
   "outputs": [
    {
     "name": "stdout",
     "output_type": "stream",
     "text": [
      "                        Name  min_life_expectancy  max_life_expectancy  \\\n",
      "0  fictional breed (massive)                    8                   10   \n",
      "\n",
      "   max_height_male  max_height_female  max_weight_male  max_weight_female  \\\n",
      "0             72.0               70.0             50.0               50.0   \n",
      "\n",
      "   min_height_male  min_height_female  min_weight_male  ...  coat_length  \\\n",
      "0             65.0               62.0             40.0  ...            1   \n",
      "\n",
      "   good_with_strangers  playfulness  protectiveness  trainability  energy  \\\n",
      "0                    3            4               3             5       4   \n",
      "\n",
      "   barking  avg_height_male  avg_height_female  avg_breed_height  \n",
      "0        3            101.0               97.0             149.5  \n",
      "\n",
      "[1 rows x 26 columns]\n"
     ]
    }
   ],
   "source": [
    "#Use the Interquartile Range (IQR) to identify outliers.\n",
    "\n",
    "Q1 = data['avg_breed_height'].quantile(0.25)\n",
    "Q3 = data['avg_breed_height'].quantile(0.75)\n",
    "IQR = Q3 - Q1\n",
    "outliers = data[(data['avg_breed_height'] < (Q1 - 1.5 * IQR)) | (data['avg_breed_height'] > (Q3 + 1.5 * IQR))]\n",
    "print(outliers)"
   ]
  },
  {
   "cell_type": "markdown",
   "metadata": {},
   "source": [
    "### Z-Score Method\n",
    "The Z-score measures the number of standard deviations an observation is from the mean. Observations with a Z-score greater than 3 or less than -3 are often considered outliers"
   ]
  },
  {
   "cell_type": "code",
   "execution_count": 10,
   "metadata": {},
   "outputs": [
    {
     "name": "stdout",
     "output_type": "stream",
     "text": [
      "                        Name  min_life_expectancy  max_life_expectancy  \\\n",
      "0  fictional breed (massive)                    8                   10   \n",
      "\n",
      "   max_height_male  max_height_female  max_weight_male  max_weight_female  \\\n",
      "0             72.0               70.0             50.0               50.0   \n",
      "\n",
      "   min_height_male  min_height_female  min_weight_male  ...  coat_length  \\\n",
      "0             65.0               62.0             40.0  ...            1   \n",
      "\n",
      "   good_with_strangers  playfulness  protectiveness  trainability  energy  \\\n",
      "0                    3            4               3             5       4   \n",
      "\n",
      "   barking  avg_height_male  avg_height_female  avg_breed_height  \n",
      "0        3            101.0               97.0             149.5  \n",
      "\n",
      "[1 rows x 26 columns]\n"
     ]
    }
   ],
   "source": [
    "# Identify outliers using Z-score\n",
    "# We can use numpy to standardize the data and scipy to calculate the Z-scores.\n",
    "\n",
    "import numpy as np\n",
    "import scipy.stats as stats\n",
    "\n",
    "z_scores = np.abs(stats.zscore(data['avg_breed_height']))\n",
    "outliers_z = data[z_scores > 3]\n",
    "\n",
    "print(outliers_z)"
   ]
  },
  {
   "cell_type": "code",
   "execution_count": 11,
   "metadata": {},
   "outputs": [],
   "source": [
    "#You can remove outliers or adjust them using transformations.\n",
    "data_clean = data[~((data['avg_breed_height'] < (Q1 - 1.5 * IQR)) | (data['avg_breed_height'] > (Q3 + 1.5 * IQR)))]\n",
    "#print(data_clean)"
   ]
  },
  {
   "cell_type": "markdown",
   "metadata": {},
   "source": [
    "A boxplot is an effective visual tool for identifying outliers, as it visually represents the distribution of the data, the IQR, and any points that fall outside the whiskers as potential outliers."
   ]
  },
  {
   "cell_type": "code",
   "execution_count": 12,
   "metadata": {},
   "outputs": [
    {
     "data": {
      "text/plain": [
       "<Axes: xlabel='avg_breed_height'>"
      ]
     },
     "execution_count": 12,
     "metadata": {},
     "output_type": "execute_result"
    },
    {
     "data": {
      "image/png": "[encoded data removed]",
      "text/plain": [
       "<Figure size 640x480 with 1 Axes>"
      ]
     },
     "metadata": {},
     "output_type": "display_data"
    }
   ],
   "source": [
    "#Use seaborn for visual representation.\n",
    "import seaborn as sns\n",
    "\n",
    "sns.boxplot(x=data['avg_breed_height'])\n"
   ]
  },
  {
   "cell_type": "code",
   "execution_count": 13,
   "metadata": {},
   "outputs": [
    {
     "data": {
      "text/plain": [
       "<Axes: xlabel='avg_breed_height'>"
      ]
     },
     "execution_count": 13,
     "metadata": {},
     "output_type": "execute_result"
    },
    {
     "data": {
      "image/png": "[encoded data removed]",
      "text/plain": [
       "<Figure size 640x480 with 1 Axes>"
      ]
     },
     "metadata": {},
     "output_type": "display_data"
    }
   ],
   "source": [
    "sns.boxplot(x=data_clean['avg_breed_height'])"
   ]
  },
  {
   "cell_type": "code",
   "execution_count": 14,
   "metadata": {},
   "outputs": [
    {
     "name": "stdout",
     "output_type": "stream",
     "text": [
      "Mean: 42.58376288659794\n",
      "Median: 45.0\n",
      "Standard Deviation: 15.162603067644474\n"
     ]
    }
   ],
   "source": [
    "# Compute measures of central tendency and variability on the cleaned dataset.\n",
    "\n",
    "mean_val = data_clean['avg_breed_height'].mean()\n",
    "median_val = data_clean['avg_breed_height'].median()\n",
    "std_dev = data_clean['avg_breed_height'].std()\n",
    "print(\"Mean: \" + str(mean_val))\n",
    "print(\"Median: \" + str(median_val))\n",
    "print(\"Standard Deviation: \" + str(std_dev))"
   ]
  },
  {
   "cell_type": "markdown",
   "metadata": {},
   "source": [
    "### Sources \n",
    "\n",
    "Kaggle user Warcoder. (n.d.). Dog Breeds Details. Kaggle. Retrieved Feb. 2024, from https://www.kaggle.com/datasets/warcoder/dog-breeds-details\n",
    "\n",
    "Kaur, J. (2019). Detecting outliers: Use absolute deviation around the median but do not use standard deviation around the mean. Journal of Emerging Technologies and Innovative Research (JETIR), 6(3). Retrieved from www.jetir.org (ISSN-2349-5162)\n",
    "\n",
    "Rogel-Salazar, J. (2023). The Measure of All Things - Statistics. In Statistics and data visualisation with Python (1st ed.). CRC Press.\n",
    "\n",
    "Zequera RAG, Rassolkin A, Vaimann T, Kallaste A. Clustering and Outlier Analysis for Key Performance Indicators in Battery Energy Storage Systems applications. 2023 IEEE 17th International Conference on Compatibility, Power Electronics and Power Engineering (CPE-POWERENG), Compatibility, Power Electronics and Power Engineering (CPE-POWERENG), 2023 IEEE 17th International Conference on. June 2023:1-6. doi:10.1109/CPE-POWERENG58103.2023.10227417\n",
    "\n",
    "This Jupiter notebook was created with the help of shcolarly articles given by ChatGPT4. (2024)"
   ]
  }
 ],
 "metadata": {
  "kernelspec": {
   "display_name": "Python 3",
   "language": "python",
   "name": "python3"
  },
  "language_info": {
   "codemirror_mode": {
    "name": "ipython",
    "version": 3
   },
   "file_extension": ".py",
   "mimetype": "text/x-python",
   "name": "python",
   "nbconvert_exporter": "python",
   "pygments_lexer": "ipython3",
   "version": "3.11.5"
  }
 },
 "nbformat": 4,
 "nbformat_minor": 2
}

{
 "cells": [
  {
   "cell_type": "markdown",
   "metadata": {},
   "source": [
    "### Assessment Description\n",
    "\n",
    "A researcher is conducting a study on the effects of different exercise regimens on blood pressure. The study involves 100 participants who are randomly assigned to one of three exercise groups: jogging, weightlifting, or yoga. Each participant's blood pressure is measured before and after the 6-week exercise program.\n",
    "\n",
    "The researcher has collected the data and stored it in a CSV file. The file contains the following columns:\n",
    "\n",
    "Participant ID (numeric)\n",
    "Exercise group (text: \"jogging,\" \"weightlifting,\" or \"yoga\")\n",
    "Pre-exercise systolic blood pressure (numeric)\n",
    "Post-exercise  blood pressure (numeric)\n",
    "The researcher wants to analyze the data using Python and NumPy. Complete the following tasks as part of the initial statistical analysis of the scenario above."
   ]
  },
  {
   "cell_type": "markdown",
   "metadata": {},
   "source": [
    "### Generate Synthetic Dataset on Exercise and Blood Pressure\n",
    "\n",
    "1.     Create a Python script that generates a synthetic dataset matching the description of your study. The dataset should be saved as a CSV file named \"exercise_data.csv\""
   ]
  },
  {
   "cell_type": "code",
   "execution_count": 12,
   "metadata": {},
   "outputs": [],
   "source": [
    "import random\n",
    "import pandas as pd\n",
    "import numpy as np"
   ]
  },
  {
   "cell_type": "code",
   "execution_count": 13,
   "metadata": {},
   "outputs": [],
   "source": [
    "number_of_participants = 100\n",
    "\n",
    "np.random.seed(0)  # For reproducibility\n",
    "participant_ids = np.arange(1, number_of_participants + 1)\n",
    "exercise_groups = np.random.choice(['jogging', 'weightlifting', 'yoga'], number_of_participants)\n",
    "pre_exercise_bp = np.random.normal(120, 15, number_of_participants)  # Assume normal distribution around 120 mmHg\n",
    "post_exercise_bp = pre_exercise_bp - np.random.normal(5, 10, number_of_participants)  # Decrease with some variability\n",
    "\n",
    "data = {\n",
    "    'Participant ID': participant_ids,\n",
    "    'Exercise group': exercise_groups,\n",
    "    'Pre-exercise  BP': pre_exercise_bp,\n",
    "    'Post-exercise systolic BP': post_exercise_bp\n",
    "}\n",
    "df = pd.DataFrame(data)\n",
    "\n",
    "csv_file_path = 'exercise_data.csv'\n",
    "df.to_csv(csv_file_path, index=False)\n",
    "\n"
   ]
  },
  {
   "cell_type": "markdown",
   "metadata": {},
   "source": [
    "Explanation: \n",
    "The script creates a synthetic dataset by generating random values for participant IDs, exercise groups, and pre/post-exercise blood pressure. It uses NumPy's random functions for generating these values, ensuring a level of randomness and variability similar to real-world data."
   ]
  },
  {
   "cell_type": "markdown",
   "metadata": {},
   "source": [
    "### Highest Pre-Exercise Blood Pressure by Group\n",
    "\n",
    "2.     Write a Python script to read the \"exercise_data.csv\" file and print the participant with the highest pre-exercise systolic blood pressure in each exercise group."
   ]
  },
  {
   "cell_type": "code",
   "execution_count": 14,
   "metadata": {},
   "outputs": [
    {
     "name": "stdout",
     "output_type": "stream",
     "text": [
      "Participant ID with highest pre-exercise systolic BP in each group:\n",
      "Jogging:  39\n",
      "Weightlifting:  94\n",
      "Yoga:  82\n"
     ]
    }
   ],
   "source": [
    "file = 'exercise_data.csv'\n",
    "read_df = pd.read_csv(file)\n",
    "\n",
    "max_pre_bp_jogging = df[df['Exercise group'] == 'jogging']['Pre-exercise systolic BP'].idxmax()\n",
    "max_pre_bp_weightlifting = df[df['Exercise group'] == 'weightlifting']['Pre-exercise systolic BP'].idxmax()\n",
    "max_pre_bp_yoga = df[df['Exercise group'] == 'yoga']['Pre-exercise systolic BP'].idxmax()\n",
    "\n",
    "\n",
    "print(\"Participant ID with highest pre-exercise systolic BP in each group:\")\n",
    "print(\"Jogging: \", read_df.loc[max_pre_bp_jogging, 'Participant ID'])\n",
    "print(\"Weightlifting: \", read_df.loc[max_pre_bp_weightlifting, 'Participant ID'])\n",
    "print(\"Yoga: \", read_df.loc[max_pre_bp_yoga, 'Participant ID'])"
   ]
  },
  {
   "cell_type": "markdown",
   "metadata": {},
   "source": [
    "Explanation: \n",
    "The script reads the dataset and identifies the participant with the highest pre-exercise blood pressure in each exercise group. It uses pandas to filter and sort the data."
   ]
  },
  {
   "cell_type": "markdown",
   "metadata": {},
   "source": [
    "### Extract the 5 Participants with Highest Blood Pressure\n",
    "\n",
    "3.     Write a Python function that sorts the list based on blood pressure and displays the full record of the top 5."
   ]
  },
  {
   "cell_type": "code",
   "execution_count": 15,
   "metadata": {},
   "outputs": [
    {
     "data": {
      "text/html": [
       "<div>\n",
       "<style scoped>\n",
       "    .dataframe tbody tr th:only-of-type {\n",
       "        vertical-align: middle;\n",
       "    }\n",
       "\n",
       "    .dataframe tbody tr th {\n",
       "        vertical-align: top;\n",
       "    }\n",
       "\n",
       "    .dataframe thead th {\n",
       "        text-align: right;\n",
       "    }\n",
       "</style>\n",
       "<table border=\"1\" class=\"dataframe\">\n",
       "  <thead>\n",
       "    <tr style=\"text-align: right;\">\n",
       "      <th></th>\n",
       "      <th>Participant ID</th>\n",
       "      <th>Exercise group</th>\n",
       "      <th>Pre-exercise systolic BP</th>\n",
       "      <th>Post-exercise systolic BP</th>\n",
       "    </tr>\n",
       "  </thead>\n",
       "  <tbody>\n",
       "    <tr>\n",
       "      <th>44</th>\n",
       "      <td>45</td>\n",
       "      <td>jogging</td>\n",
       "      <td>83.343260</td>\n",
       "      <td>69.896999</td>\n",
       "    </tr>\n",
       "    <tr>\n",
       "      <th>7</th>\n",
       "      <td>8</td>\n",
       "      <td>yoga</td>\n",
       "      <td>86.633946</td>\n",
       "      <td>82.599707</td>\n",
       "    </tr>\n",
       "    <tr>\n",
       "      <th>19</th>\n",
       "      <td>20</td>\n",
       "      <td>weightlifting</td>\n",
       "      <td>87.694881</td>\n",
       "      <td>75.635597</td>\n",
       "    </tr>\n",
       "    <tr>\n",
       "      <th>61</th>\n",
       "      <td>62</td>\n",
       "      <td>yoga</td>\n",
       "      <td>87.849668</td>\n",
       "      <td>84.086577</td>\n",
       "    </tr>\n",
       "    <tr>\n",
       "      <th>75</th>\n",
       "      <td>76</td>\n",
       "      <td>jogging</td>\n",
       "      <td>88.126196</td>\n",
       "      <td>74.743088</td>\n",
       "    </tr>\n",
       "  </tbody>\n",
       "</table>\n",
       "</div>"
      ],
      "text/plain": [
       "    Participant ID Exercise group  Pre-exercise systolic BP  \\\n",
       "44              45        jogging                 83.343260   \n",
       "7                8           yoga                 86.633946   \n",
       "19              20  weightlifting                 87.694881   \n",
       "61              62           yoga                 87.849668   \n",
       "75              76        jogging                 88.126196   \n",
       "\n",
       "    Post-exercise systolic BP  \n",
       "44                  69.896999  \n",
       "7                   82.599707  \n",
       "19                  75.635597  \n",
       "61                  84.086577  \n",
       "75                  74.743088  "
      ]
     },
     "execution_count": 15,
     "metadata": {},
     "output_type": "execute_result"
    }
   ],
   "source": [
    "highest_bp = read_df.sort_values(by=['Pre-exercise systolic BP'], ascending=True)\n",
    "highest_bp.head(5)"
   ]
  },
  {
   "cell_type": "markdown",
   "metadata": {},
   "source": [
    "Explanation: \n",
    "The script sorts the data based on pre-exercise blood pressure and displays the records of the top 5 participants. This demonstrates data sorting and extraction capabilities in pandas."
   ]
  },
  {
   "cell_type": "markdown",
   "metadata": {},
   "source": [
    "### Monthly Blood Pressure Changes\n",
    "\n",
    "4.     Write a Python script that assumes that blood pressure measurements were taken monthly. Compute and print the average change in blood pressure for each exercise group. Note: This is hypothetical as the original study is for 6 weeks only."
   ]
  },
  {
   "cell_type": "code",
   "execution_count": 16,
   "metadata": {},
   "outputs": [
    {
     "name": "stdout",
     "output_type": "stream",
     "text": [
      "Average change in bp for each exercise group: \n",
      "Exercise group\n",
      "jogging         -5.837068\n",
      "weightlifting   -4.503938\n",
      "yoga            -4.293088\n",
      "Name: BP Change, dtype: float64\n"
     ]
    }
   ],
   "source": [
    "read_df['BP Change'] = read_df['Post-exercise systolic BP'] - read_df['Pre-exercise systolic BP']\n",
    "average_change_bp = read_df.groupby('Exercise group')['BP Change'].mean()\n",
    "\n",
    "print(\"Average change in bp for each exercise group: \")\n",
    "print(average_change_bp)"
   ]
  },
  {
   "cell_type": "markdown",
   "metadata": {},
   "source": [
    "Explanation: \n",
    "The script computes the average change in blood pressure for each exercise group, assuming monthly measurements. It involves calculating the difference between pre- and post-exercise blood pressure and then finding the average of these differences."
   ]
  },
  {
   "cell_type": "markdown",
   "metadata": {},
   "source": [
    "### Compare Pre- and Post-Exercise Blood Pressure\n",
    "\n",
    "5.     Search for the 5 participants from the pre-exercise (Topic 4) and find their post-exercise blood pressure. Produce a table that compares their pre- and post-exercise pressure and displays the difference."
   ]
  },
  {
   "cell_type": "code",
   "execution_count": 17,
   "metadata": {},
   "outputs": [
    {
     "name": "stdout",
     "output_type": "stream",
     "text": [
      "Comparison of Pre- and Post-Exercise Systolic Blood Pressure:\n",
      "    Participant ID  Pre-exercise systolic BP  Post-exercise systolic BP  \\\n",
      "93              94                152.953365                 136.789620   \n",
      "33              34                148.626932                 134.332937   \n",
      "38              39                146.341605                 146.390568   \n",
      "81              82                144.889150                 147.170429   \n",
      "42              43                144.071641                 140.119173   \n",
      "\n",
      "    BP Difference  \n",
      "93      16.163745  \n",
      "33      14.293994  \n",
      "38      -0.048962  \n",
      "81      -2.281280  \n",
      "42       3.952468  \n"
     ]
    }
   ],
   "source": [
    "top_5_pre_bp = df.nlargest(5, 'Pre-exercise systolic BP')\n",
    "\n",
    "comparison_table = top_5_pre_bp[['Participant ID', 'Pre-exercise systolic BP', 'Post-exercise systolic BP']]\n",
    "comparison_table['BP Difference'] = comparison_table['Pre-exercise systolic BP'] - comparison_table['Post-exercise systolic BP']\n",
    "\n",
    "print(\"Comparison of Pre- and Post-Exercise Systolic Blood Pressure: \")\n",
    "print(comparison_table)"
   ]
  },
  {
   "cell_type": "markdown",
   "metadata": {},
   "source": [
    "Explanation: \n",
    "The script compares pre- and post-exercise blood pressure for the top 5 participants and displays the differences. This task involves data selection, comparison, and computation of differences."
   ]
  },
  {
   "cell_type": "markdown",
   "metadata": {},
   "source": [
    "### Total Blood Pressure Reduction for Each Exercise Group\n",
    "\n",
    "6.     Write a Python script to read the \"exercise_data.csv\" file and compute the measures of central tendency for each exercise group: mean, mode, standard deviation."
   ]
  },
  {
   "cell_type": "code",
   "execution_count": 39,
   "metadata": {},
   "outputs": [
    {
     "name": "stdout",
     "output_type": "stream",
     "text": [
      "jogging group:\n",
      "\n",
      "Pre-exercise systolic BP:\n",
      "Mean = 117.08430665682569,\n",
      "Mode = 83.34325974232178,\n",
      "Standard Deviation = 14.845603589239683\n",
      "\n",
      "Post-exercise systolic BP:\n",
      "Mean = 111.2472387215338,\n",
      "Mode = 69.89699944029005,\n",
      "Standard Deviation = 18.908900518538886\n",
      "\n",
      "\n",
      "weightlifting group:\n",
      "\n",
      "Pre-exercise systolic BP:\n",
      "Mean = 120.7447816702838,\n",
      "Mode = 87.69488120463342,\n",
      "Standard Deviation = 15.356891288871793\n",
      "\n",
      "Post-exercise systolic BP:\n",
      "Mean = 116.24084344034989,\n",
      "Mode = 75.6355973146187,\n",
      "Standard Deviation = 22.003051008590212\n",
      "\n",
      "\n",
      "yoga group:\n",
      "\n",
      "Pre-exercise systolic BP:\n",
      "Mean = 120.0799992795688,\n",
      "Mode = 86.63394596681371,\n",
      "Standard Deviation = 15.316872208225165\n",
      "\n",
      "Post-exercise systolic BP:\n",
      "Mean = 115.78691144643656,\n",
      "Mode = 82.59970724122813,\n",
      "Standard Deviation = 17.185228833241585\n",
      "\n",
      "\n"
     ]
    }
   ],
   "source": [
    "exercise_groups = df['Exercise group'].unique()\n",
    "\n",
    "for group in exercise_groups:\n",
    "    group_data = df[df['Exercise group'] == group]\n",
    "    print(f\"{group} group:\\n\")\n",
    "    for column in ['Pre-exercise systolic BP', 'Post-exercise systolic BP']:\n",
    "        mean = group_data[column].mean()\n",
    "        mode = group_data[column].mode().iloc[0]\n",
    "        std_dev = group_data[column].std()\n",
    "        print(f\"{column}:\\nMean = {mean},\\nMode = {mode},\\nStandard Deviation = {std_dev}\\n\")\n",
    "    print()"
   ]
  },
  {
   "cell_type": "markdown",
   "metadata": {},
   "source": [
    "Explanation: \n",
    "The script calculates the mean, mode, and standard deviation for pre- and post-exercise blood pressure in each exercise group. It demonstrates the use of NumPy for statistical calculations."
   ]
  }
 ],
 "metadata": {
  "kernelspec": {
   "display_name": "Python 3 (ipykernel)",
   "language": "python",
   "name": "python3"
  },
  "language_info": {
   "codemirror_mode": {
    "name": "ipython",
    "version": 3
   },
   "file_extension": ".py",
   "mimetype": "text/x-python",
   "name": "python",
   "nbconvert_exporter": "python",
   "pygments_lexer": "ipython3",
   "version": "0.0.0"
  }
 },
 "nbformat": 4,
 "nbformat_minor": 4
}
